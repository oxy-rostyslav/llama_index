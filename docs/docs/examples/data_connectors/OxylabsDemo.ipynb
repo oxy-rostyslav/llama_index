{
 "cells": [
  {
   "cell_type": "markdown",
   "id": "39207008-8ea1-4a0e-bbe1-a8b5e73f0de0",
   "metadata": {},
   "source": [
    "# Oxylabs Reader"
   ]
  },
  {
   "cell_type": "markdown",
   "id": "d8503fec-8c5f-49cd-acb9-a128b701ddc6",
   "metadata": {},
   "source": [
    "Use Oxylabs Webpage Loader to load a webpage from any URL.\n",
    "For more information checkout out the [Oxylabs documentation](https://developers.oxylabs.io/scraper-apis/web-scraper-api)."
   ]
  },
  {
   "cell_type": "code",
   "execution_count": null,
   "id": "98850676-106a-484e-85df-eaf6e1ea52d0",
   "metadata": {},
   "outputs": [],
   "source": [
    "# %pip install llama-index llama-index-readers-oxylabs"
   ]
  },
  {
   "cell_type": "markdown",
   "id": "50861c50-b62c-4c13-8d38-9562a4c4093e",
   "metadata": {},
   "source": [
    "In this notebook we show how Oxylabs Reader can be used to collect information from different sources.\n",
    "\n",
    "Firstly, import OxylabsReader"
   ]
  },
  {
   "cell_type": "code",
   "execution_count": null,
   "id": "3a5f674f-5be8-48da-b447-63edd84a6779",
   "metadata": {},
   "outputs": [],
   "source": [
    "import os\n",
    "from llama_index.readers.oxylabs import OxylabsReader"
   ]
  },
  {
   "cell_type": "code",
   "execution_count": null,
   "id": "5d787224-245e-41fa-aa6e-eca68d06d92c",
   "metadata": {},
   "outputs": [],
   "source": [
    "# This is needed to run it in Jupyter notebook\n",
    "# import nest_asyncio\n",
    "# nest_asyncio.apply()"
   ]
  },
  {
   "cell_type": "markdown",
   "id": "7889631c-4650-423c-93fa-dd08473c7848",
   "metadata": {},
   "source": [
    "Instantiate OxylabsReader with your username and password"
   ]
  },
  {
   "cell_type": "code",
   "execution_count": null,
   "id": "1eaf5a9c-c597-4cff-9446-287529b9e15a",
   "metadata": {},
   "outputs": [],
   "source": [
    "oxylabs_username = os.environ.get(\"OXYLABS_USERNAME\")\n",
    "oxylabs_password = os.environ.get(\"OXYLABS_PASSWORD\")\n",
    "\n",
    "oxy_reader = OxylabsReader(oxylabs_username, oxylabs_password)"
   ]
  },
  {
   "cell_type": "markdown",
   "id": "4d144e29d3535f04",
   "metadata": {},
   "source": [
    "Prepare parameters. This example will load the Google Search results for the 'iPhone 16' query with the 'Berlin, Germany' location.\n",
    "\n",
    "Checkout the [documentation](https://developers.oxylabs.io/scraper-apis/web-scraper-api) for more examples."
   ]
  },
  {
   "cell_type": "code",
   "execution_count": null,
   "id": "a6c5e727-9d1c-470c-a839-690d433ca3cf",
   "metadata": {},
   "outputs": [],
   "source": [
    "res = oxy_reader.load_data(\n",
    "    {\n",
    "        \"source\": \"google_search\",\n",
    "        \"parse\": True,\n",
    "        \"query\": \"iPhone 16\",\n",
    "        \"geo_location\": \"Berlin, Germany\",\n",
    "    }\n",
    ")"
   ]
  },
  {
   "cell_type": "code",
   "execution_count": null,
   "id": "5c838258-219a-4ffb-96a3-263a0f08829e",
   "metadata": {},
   "outputs": [
    {
     "name": "stdout",
     "output_type": "stream",
     "text": [
      "Title: iPhone 16 und iPhone 16 Plus - Apple (DE)\n",
      "URL: https://www.apple.com/de/iphone-16/\n",
      "\n",
      "Title: Apple iPhone 16 ab 717,70 € (April 2025 Preise)\n",
      "URL: https://www.idealo.de/preisvergleich/OffersOfProduct/204736899_-iphone-16-apple.html\n",
      "\n",
      "Title: Apple iPhone 16 Pro kaufen\n",
      "URL: https://www.mediamarkt.de/de/brand/apple/iphone/iphone-16-pro\n",
      "\n"
     ]
    }
   ],
   "source": [
    "import json\n",
    "\n",
    "search_data = json.loads(res[0].text)[\"results\"][0][\"content\"]\n",
    "\n",
    "for item in search_data[\"results\"][\"organic\"][:3]:\n",
    "    print(\"Title:\", item[\"title\"])\n",
    "    print(\"URL:\", item[\"url\"])\n",
    "    print()"
   ]
  },
  {
   "cell_type": "markdown",
   "id": "90f61ddd6d0e1d8c",
   "metadata": {},
   "source": [
    "## More examples"
   ]
  },
  {
   "cell_type": "markdown",
   "id": "ee67b8a09a601367",
   "metadata": {},
   "source": [
    "### Amazon Product data"
   ]
  },
  {
   "cell_type": "code",
   "execution_count": null,
   "id": "78788caec1657f11",
   "metadata": {},
   "outputs": [
    {
     "name": "stdout",
     "output_type": "stream",
     "text": [
      "Product ID: B08D9N7RJ4\n",
      "Price: 134.99\n",
      "Title: Philips Hue A19 LED Smart Light Bulb - White and Color Ambiance - 60W Indoor Light Bulb - Control with Hue App - Works with Alexa, Google Assistant and Apple Homekit - 3 Pack\n",
      "Brand: Philips Hue\n",
      "Availability: In Stock\n"
     ]
    }
   ],
   "source": [
    "res = oxy_reader.load_data(\n",
    "    {\n",
    "        \"source\": \"amazon_product\",\n",
    "        \"domain\": \"com\",\n",
    "        \"query\": \"B08D9N7RJ4\",\n",
    "        \"parse\": True,\n",
    "        \"context\": [{\"key\": \"autoselect_variant\", \"value\": True}],\n",
    "    }\n",
    ")\n",
    "\n",
    "product = json.loads(res[0].text)[\"results\"][0][\"content\"]\n",
    "\n",
    "print(\"Product ID:\", product[\"asin\"])\n",
    "print(\"Price:\", product[\"price\"])\n",
    "print(\"Title:\", product[\"title\"])\n",
    "print(\"Brand:\", product[\"brand\"])\n",
    "print(\"Availability:\", product[\"stock\"])"
   ]
  },
  {
   "cell_type": "markdown",
   "id": "d19dd49f076487dd",
   "metadata": {},
   "source": [
    "### YouTube Search"
   ]
  },
  {
   "cell_type": "code",
   "execution_count": null,
   "id": "980f644c945b5f17",
   "metadata": {},
   "outputs": [
    {
     "name": "stdout",
     "output_type": "stream",
     "text": [
      "Video ID: 2skt0cbLs54\n",
      "Title: How To Make A Website 2025 ~ A Website Tutorial For Beginners\n",
      "Views: 113,407 views\n",
      "\n",
      "Video ID: MbKpfDyRMyo\n",
      "Title: How To Make A Website 2025 - A Website Tutorial For Beginners\n",
      "Views: 423,069 views\n",
      "\n",
      "Video ID: prLv5uwUtuY\n",
      "Title: How to Make a Website | Step by Step [2025]\n",
      "Views: 150,048 views\n",
      "\n"
     ]
    }
   ],
   "source": [
    "res = oxy_reader.load_data(\n",
    "    {\"source\": \"youtube_search\", \"query\": \"how to make a website\"}\n",
    ")\n",
    "\n",
    "videos = json.loads(res[0].text)[\"results\"][0][\"content\"]\n",
    "\n",
    "for video in videos[:3]:\n",
    "    print(\"Video ID:\", video[\"videoId\"])\n",
    "    print(\"Title:\", video[\"title\"][\"runs\"][0][\"text\"])\n",
    "    print(\"Views:\", video[\"viewCountText\"][\"simpleText\"])\n",
    "    print()"
   ]
  },
  {
   "cell_type": "markdown",
   "id": "52bd094e519817",
   "metadata": {},
   "source": [
    "### YouTube Transcript"
   ]
  },
  {
   "cell_type": "code",
   "execution_count": null,
   "id": "f3ede00b701c4665",
   "metadata": {},
   "outputs": [
    {
     "name": "stdout",
     "output_type": "stream",
     "text": [
      "Hi! Today, I’ll show you how to easily \n",
      "get started with our Web Scraper API,  \n",
      "an all-in-one web data collection platform. \n",
      "From crawling to parsing to data delivery,  \n",
      "it covers every stage of web scraping. \n",
      "You can extract data from search engines,  \n"
     ]
    }
   ],
   "source": [
    "res = oxy_reader.load_data(\n",
    "    {\n",
    "        \"source\": \"youtube_transcript\",\n",
    "        \"query\": \"SLoqvcnwwN4\",\n",
    "        \"context\": [\n",
    "            {\"key\": \"language_code\", \"value\": \"en\"},\n",
    "            {\"key\": \"transcript_origin\", \"value\": \"uploader_provided\"},\n",
    "        ],\n",
    "    }\n",
    ")\n",
    "\n",
    "segments = json.loads(res[0].text)[\"results\"][0][\"content\"]\n",
    "\n",
    "for segment in segments[1:4]:\n",
    "    print(segment[\"transcriptSegmentRenderer\"][\"snippet\"][\"runs\"][0][\"text\"])"
   ]
  }
 ],
 "metadata": {
  "kernelspec": {
   "display_name": "Python 3 (ipykernel)",
   "language": "python",
   "name": "python3"
  },
  "language_info": {
   "codemirror_mode": {
    "name": "ipython",
    "version": 3
   },
   "file_extension": ".py",
   "mimetype": "text/x-python",
   "name": "python",
   "nbconvert_exporter": "python",
   "pygments_lexer": "ipython3"
  }
 },
 "nbformat": 4,
 "nbformat_minor": 5
}
